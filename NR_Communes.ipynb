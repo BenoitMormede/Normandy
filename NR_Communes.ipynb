{
 "cells": [
  {
   "cell_type": "code",
   "execution_count": 27,
   "metadata": {},
   "outputs": [],
   "source": [
    "#Import Libraries\n",
    "import pandas as pd\n",
    "import numpy as np\n",
    "from sklearn.model_selection import train_test_split\n",
    "import seaborn as sns\n",
    "import matplotlib.pyplot as plt"
   ]
  },
  {
   "cell_type": "code",
   "execution_count": 28,
   "metadata": {},
   "outputs": [],
   "source": [
    "#import dataset communes\n",
    "com_df_1 = pd.read_excel(\"population-francaise-communes.xlsx\")"
   ]
  },
  {
   "cell_type": "code",
   "execution_count": 29,
   "metadata": {},
   "outputs": [],
   "source": [
    "# Create a new DataFrame with rows where \"Nom de la région\" is \"Normandie\" and annee is 2019\n",
    "com_normandie_db = com_df_1[(com_df_1['Nom de la région'] == 'Normandie') & (com_df_1['Année utilisation'] == 2019)].reset_index(drop=True)"
   ]
  },
  {
   "cell_type": "code",
   "execution_count": 30,
   "metadata": {},
   "outputs": [],
   "source": [
    "# Drop columns\n",
    "com_normandie_db = com_normandie_db.drop(columns=['Code INSEE (commune ou arrondissement)','Population municipale', 'Population comptée à part', 'Année recensement', 'Statut', 'Nom de la commune IGN', 'Nom du département IGN', 'Nom de la région.1', 'Code EPCI', 'Code EPCI.1'])"
   ]
  },
  {
   "cell_type": "code",
   "execution_count": 31,
   "metadata": {},
   "outputs": [],
   "source": [
    "#renaming columns\n",
    "com_normandie_db = com_normandie_db.rename(columns={\n",
    "    'Code région': 'code_region',\n",
    "    'Nom de la région': 'nom_region',\n",
    "    'Code département': 'code_dpt',\n",
    "    'Code canton': 'code_canton',\n",
    "    'Code commune': 'code_com',\n",
    "    'Nom de la commune': 'nom_com',\n",
    "    'Population totale': 'pop_totale',\n",
    "    'Superficie de la commune': 'superficie',\n",
    "    'Code INSEE de la commune': 'com_INSEE',\n",
    "    'Code arrondissement départemental': 'code_arrond_dept',\n",
    "    'Année utilisation': 'annee'\n",
    "\n",
    "})"
   ]
  },
  {
   "cell_type": "code",
   "execution_count": 32,
   "metadata": {},
   "outputs": [
    {
     "data": {
      "text/plain": [
       "code_region         float64\n",
       "nom_region           object\n",
       "code_dpt             object\n",
       "code_arrond_dept    float64\n",
       "code_canton         float64\n",
       "code_com            float64\n",
       "nom_com              object\n",
       "pop_totale          float64\n",
       "annee                 int64\n",
       "superficie          float64\n",
       "com_INSEE            object\n",
       "EPCI                 object\n",
       "dtype: object"
      ]
     },
     "execution_count": 32,
     "metadata": {},
     "output_type": "execute_result"
    }
   ],
   "source": [
    "\n",
    "com_normandie_db.dtypes"
   ]
  },
  {
   "cell_type": "code",
   "execution_count": 37,
   "metadata": {},
   "outputs": [],
   "source": [
    "com_normandie_db.to_excel(\"com_normandie_db.xlsx\", index=False)"
   ]
  }
 ],
 "metadata": {
  "kernelspec": {
   "display_name": "final_project",
   "language": "python",
   "name": "python3"
  },
  "language_info": {
   "codemirror_mode": {
    "name": "ipython",
    "version": 3
   },
   "file_extension": ".py",
   "mimetype": "text/x-python",
   "name": "python",
   "nbconvert_exporter": "python",
   "pygments_lexer": "ipython3",
   "version": "3.8.20"
  }
 },
 "nbformat": 4,
 "nbformat_minor": 2
}
